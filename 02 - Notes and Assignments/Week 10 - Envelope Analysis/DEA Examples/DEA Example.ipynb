{
 "cells": [
  {
   "cell_type": "code",
   "execution_count": 1,
   "id": "734c42be-547f-4cbe-a425-85526f0bf215",
   "metadata": {},
   "outputs": [
    {
     "name": "stdout",
     "output_type": "stream",
     "text": [
      "Restricted license - for non-production use only - expires 2022-01-13\n"
     ]
    }
   ],
   "source": [
    "\"\"\"\n",
    "DEA Analysis - Testing Efficiencies releative to peer group\n",
    "\"\"\"\n",
    "\n",
    "from gurobipy import *\n",
    "m = Model(\"DEA Example\")"
   ]
  },
  {
   "cell_type": "code",
   "execution_count": 3,
   "id": "e6de24d7-a4fa-455a-9cd7-e3c303b8799c",
   "metadata": {},
   "outputs": [],
   "source": [
    "# CREATE SETS ================================================================\n",
    "\n",
    "#  Note List [], Tuple (Cannot modify) (), Dictionary {}\n",
    "I = [1, 2]\n",
    "O = [1]\n",
    "S = [40, 41, 42, 43, 44, 45, 46, 47, 48, 49]\n",
    "\n",
    "# Select the desired Student to compare\n",
    "p = 49"
   ]
  },
  {
   "cell_type": "code",
   "execution_count": null,
   "id": "e0884fed-791c-4025-86ae-ed2915c79571",
   "metadata": {},
   "outputs": [],
   "source": [
    "# CREATE PARAMETERS ==========================================================\n",
    "\n",
    "x = {\n",
    "        # Input 1 \n",
    "        (1, 40): 2,\n",
    "        (1, 41): 19,\n",
    "        (1, 42): 18,\n",
    "        (1, 43): 5,\n",
    "        (1, 44): 18,\n",
    "        (1, 45): 0,\n",
    "        (1, 46): 15,\n",
    "        (1, 47): 4,\n",
    "        (1, 48): 0,\n",
    "        (1, 49): 15,\n",
    "        \n",
    "        # Input 2\n",
    "        (2, 40): 15,\n",
    "        (2, 41): 4,\n",
    "        (2, 42): 10,\n",
    "        (2, 43): 5,\n",
    "        (2, 44): 11,\n",
    "        (2, 45): 11,\n",
    "        (2, 46): 6,\n",
    "        (2, 47): 15,\n",
    "        (2, 48): 14,\n",
    "        (2, 49): 8\n",
    "}\n",
    "\n",
    "y = {\n",
    "        (1, 40): 63,\n",
    "        (1, 41): 78,\n",
    "        (1, 42): 86,\n",
    "        (1, 43): 52,\n",
    "        (1, 44): 80,\n",
    "        (1, 45): 97,\n",
    "        (1, 46): 65,\n",
    "        (1, 47): 51,\n",
    "        (1, 48): 72,\n",
    "        (1, 49): 54\n",
    "}"
   ]
  },
  {
   "cell_type": "code",
   "execution_count": null,
   "id": "d5d2a155-f4e9-4132-80bc-301af07ef829",
   "metadata": {},
   "outputs": [],
   "source": [
    "\n",
    "# CREATE VARIABLES ===========================================================\n",
    "\n",
    "## Phi (maximize this later)\n",
    "phi = m.addVar(lb    = -GRB.INFINITY,\n",
    "               ub    =  GRB.INFINITY,\n",
    "               vtype =  GRB.CONTINUOUS,\n",
    "               name  = 'phi')\n",
    "\n",
    "## Lambda Variables\n",
    "lambdas = m.addVars(S, name = \"lambda\")\n",
    "\n",
    "## Update the model\n",
    "m.update()"
   ]
  },
  {
   "cell_type": "code",
   "execution_count": 4,
   "id": "d9a87747-5001-4068-9a2a-02caf82deea1",
   "metadata": {},
   "outputs": [
    {
     "ename": "NameError",
     "evalue": "name 'phi' is not defined",
     "output_type": "error",
     "traceback": [
      "\u001b[1;31m---------------------------------------------------------------------------\u001b[0m",
      "\u001b[1;31mNameError\u001b[0m                                 Traceback (most recent call last)",
      "\u001b[1;32m<ipython-input-4-3c1680d197e4>\u001b[0m in \u001b[0;36m<module>\u001b[1;34m\u001b[0m\n\u001b[0;32m      2\u001b[0m \u001b[1;33m\u001b[0m\u001b[0m\n\u001b[0;32m      3\u001b[0m \u001b[1;31m## Maximize phi\u001b[0m\u001b[1;33m\u001b[0m\u001b[1;33m\u001b[0m\u001b[1;33m\u001b[0m\u001b[0m\n\u001b[1;32m----> 4\u001b[1;33m \u001b[0mz\u001b[0m \u001b[1;33m=\u001b[0m \u001b[0mphi\u001b[0m\u001b[1;33m\u001b[0m\u001b[1;33m\u001b[0m\u001b[0m\n\u001b[0m\u001b[0;32m      5\u001b[0m \u001b[0mm\u001b[0m\u001b[1;33m.\u001b[0m\u001b[0msetObjective\u001b[0m\u001b[1;33m(\u001b[0m\u001b[0mz\u001b[0m\u001b[1;33m,\u001b[0m \u001b[0mGRB\u001b[0m\u001b[1;33m.\u001b[0m\u001b[0mMAXIMIZE\u001b[0m\u001b[1;33m)\u001b[0m\u001b[1;33m\u001b[0m\u001b[1;33m\u001b[0m\u001b[0m\n",
      "\u001b[1;31mNameError\u001b[0m: name 'phi' is not defined"
     ]
    }
   ],
   "source": [
    "# SET OBJECTIVE TO PHI =======================================================\n",
    "\n",
    "## Maximize phi\n",
    "z = phi\n",
    "m.setObjective(z, GRB.MAXIMIZE)"
   ]
  },
  {
   "cell_type": "code",
   "execution_count": null,
   "id": "518614a5-c061-4a0a-97e9-9b3fa8322c90",
   "metadata": {},
   "outputs": [],
   "source": [
    "\n",
    "# CONSTRAINTS ================================================================\n",
    "m.addConstrs(sum(x[i, j] * lambdas[j] for j in S) <= x[i, p] for i in I)\n",
    "m.addConstrs(sum(y[o, j] * lambdas[j] for j in S) >= y[o, p] * phi for o in O)\n",
    "m.addConstr( sum(lambdas[j] for j in S) == 1)\n",
    "\n",
    "m.update()"
   ]
  },
  {
   "cell_type": "code",
   "execution_count": null,
   "id": "e0dd0824-5e6a-40ab-93db-4d14f06fcb01",
   "metadata": {},
   "outputs": [],
   "source": [
    "# Optimize the model!!!!\n",
    "\n",
    "m.optimize()\n",
    "\n",
    "## Print the objective, phi (Proportional change of the output needed to achieve efficiency), \n",
    "## and lambdas (percentage / weight given to a person (set)\n",
    "if m.status == GRB.OPTIMAL:\n",
    "    print(\"\\n Optimal Found:\",\n",
    "          \"\\n\\n Objective (phi): %g\" % m.objVal,\n",
    "          \"\\n\\n Decision Variables:\")\n",
    "    for var in m.getVars():\n",
    "        print('%s %g' % (var.varName, var.x))\n"
   ]
  }
 ],
 "metadata": {
  "kernelspec": {
   "display_name": "Python 3",
   "language": "python",
   "name": "python3"
  },
  "language_info": {
   "codemirror_mode": {
    "name": "ipython",
    "version": 3
   },
   "file_extension": ".py",
   "mimetype": "text/x-python",
   "name": "python",
   "nbconvert_exporter": "python",
   "pygments_lexer": "ipython3",
   "version": "3.8.8"
  }
 },
 "nbformat": 4,
 "nbformat_minor": 5
}
