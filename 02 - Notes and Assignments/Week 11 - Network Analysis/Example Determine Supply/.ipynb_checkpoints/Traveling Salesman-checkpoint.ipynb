{
 "cells": [
  {
   "cell_type": "code",
   "execution_count": 1,
   "id": "2dbc7f70",
   "metadata": {},
   "outputs": [],
   "source": [
    "\"\"\"\n",
    "Transportation Analysis Example from Previous Final\n",
    "\n",
    "Goal is to determine the supply of each plant\n",
    "In doing so, you must minimize the cost given the demand of the city\n",
    "s.t. \n",
    "    flow of goods is <= the upper bound of the path\n",
    "    flow of goods is >= the lower bound of the path\n",
    "\"\"\"\n",
    "\n",
    "# Import Gurobi\n",
    "from gurobipy import *\n"
   ]
  },
  {
   "cell_type": "code",
   "execution_count": 2,
   "id": "40f5e302",
   "metadata": {},
   "outputs": [
    {
     "name": "stdout",
     "output_type": "stream",
     "text": [
      "Restricted license - for non-production use only - expires 2022-01-13\n"
     ]
    }
   ],
   "source": [
    "# CREATE MODEL ================================================================\n",
    "m = Model(name = 'Transportation - Previous Final Exam')\n",
    "\n",
    "\n",
    "# SETS ========================================================================\n",
    "Plants = ['Plant 1', 'Plant 2']\n",
    "Cities = ['City 1', 'City 2', 'City 3']\n"
   ]
  },
  {
   "cell_type": "code",
   "execution_count": 3,
   "id": "42d53844",
   "metadata": {},
   "outputs": [],
   "source": [
    "# PARAMETERS ==================================================================\n",
    "\n",
    "## The demand of the city\n",
    "demand = {'City 1': 50, \n",
    "          'City 2': 100, \n",
    "          'City 3': 75}\n",
    "\n",
    "## Define the cost, lowerBound, and upperBound:\n",
    "### cost: the cost of the path from a plant ∈ Plants to a city ∈ Cities\n",
    "### lowerBound: the lower bound of each path from a plant ∈ Plants to a city ∈ Cities\n",
    "### upperBound: the upper bound (capacity limit) of each path from a plant ∈ Plants to a city ∈ Cities\n",
    "Arcs, cost, lowerBound, upperBound = multidict({\n",
    "        ('Plant 1', 'City 1'): [10, 0, 60],\n",
    "        ('Plant 1', 'City 2'): [10, 0, 90],\n",
    "        ('Plant 1', 'City 3'): [ 7, 0, 80],\n",
    "        ('Plant 2', 'City 1'): [ 5, 0, 20],\n",
    "        ('Plant 2', 'City 2'): [ 1, 0, 30],\n",
    "        ('Plant 2', 'City 3'): [ 3, 0, 80],\n",
    "    })\n"
   ]
  },
  {
   "cell_type": "code",
   "execution_count": 4,
   "id": "c578aaa0",
   "metadata": {},
   "outputs": [],
   "source": [
    "# DECISION VARIABLES AND OBJECTIVE FUNCTION ==================================\n",
    "\n",
    "## The flow of goods from a plant ∈ Plants to a city ∈ Cities\n",
    "flow = m.addVars(Arcs, name = 'flow',\n",
    "                 \n",
    "## Objective = cost, minimized by default\n",
    "                 obj = cost)\n"
   ]
  },
  {
   "cell_type": "code",
   "execution_count": 5,
   "id": "7b2aabdf",
   "metadata": {},
   "outputs": [
    {
     "data": {
      "text/plain": [
       "{('Plant 1', 'City 1'): <gurobi.Constr *Awaiting Model Update*>,\n",
       " ('Plant 1', 'City 2'): <gurobi.Constr *Awaiting Model Update*>,\n",
       " ('Plant 1', 'City 3'): <gurobi.Constr *Awaiting Model Update*>,\n",
       " ('Plant 2', 'City 1'): <gurobi.Constr *Awaiting Model Update*>,\n",
       " ('Plant 2', 'City 2'): <gurobi.Constr *Awaiting Model Update*>,\n",
       " ('Plant 2', 'City 3'): <gurobi.Constr *Awaiting Model Update*>}"
      ]
     },
     "execution_count": 5,
     "metadata": {},
     "output_type": "execute_result"
    }
   ],
   "source": [
    "# CONSTRAINTS =================================================================\n",
    "\n",
    "# Flow from a plant ∈ Plants to a city ∈ Cities must be less than the demand in a city ∈ Cities \n",
    "m.addConstrs((flow.sum('*', city) == demand[city] \n",
    "             for city in Cities), 'demand')\n",
    "\n",
    "# Flow from a plant ∈ Plants to a city ∈ Cities must be greater than the lowerBound \n",
    "m.addConstrs((flow[plant, city] >= lowerBound[plant, city] \n",
    "             for plant, city in Arcs),'lowerFlow')\n",
    "\n",
    "# Flow from a plant ∈ Plants to a city ∈ Cities must be less than the upperBound \n",
    "m.addConstrs((flow[plant, city] <= upperBound[plant, city] \n",
    "             for plant, city in Arcs), 'upperFlow')\n"
   ]
  },
  {
   "cell_type": "code",
   "execution_count": 6,
   "id": "c47f7493",
   "metadata": {},
   "outputs": [
    {
     "name": "stdout",
     "output_type": "stream",
     "text": [
      "\n",
      "========= OPTIMIZED MODEL =========\n",
      "\n",
      "Optimized cost: 1355 (in USD)\n",
      "\n",
      "Optimal Supply of the Plants\n",
      "Plant 1:\t100.0\n",
      "Plant 2:\t125.0\n",
      "\n",
      "Decision Variables (flow from plant to city): \n",
      "Plant 1\t->\tCity 1:\t30.0\n",
      "Plant 1\t->\tCity 2:\t70.0\n",
      "Plant 1\t->\tCity 3:\t0.0\n",
      "Plant 2\t->\tCity 1:\t20.0\n",
      "Plant 2\t->\tCity 2:\t30.0\n",
      "Plant 2\t->\tCity 3:\t75.0\n",
      "\n",
      "Dual Variables:\n",
      "Dual:\tdemand[City 1]:\t10\n",
      "Dual:\tdemand[City 2]:\t10\n",
      "Dual:\tdemand[City 3]:\t3\n",
      "Dual:\tlowerFlow[Plant 1,City 1]:\t0\n",
      "Dual:\tlowerFlow[Plant 1,City 2]:\t0\n",
      "Dual:\tlowerFlow[Plant 1,City 3]:\t0\n",
      "Dual:\tlowerFlow[Plant 2,City 1]:\t0\n",
      "Dual:\tlowerFlow[Plant 2,City 2]:\t0\n",
      "Dual:\tlowerFlow[Plant 2,City 3]:\t0\n",
      "Dual:\tupperFlow[Plant 1,City 1]:\t0\n",
      "Dual:\tupperFlow[Plant 1,City 2]:\t0\n",
      "Dual:\tupperFlow[Plant 1,City 3]:\t0\n",
      "Dual:\tupperFlow[Plant 2,City 1]:\t-5\n",
      "Dual:\tupperFlow[Plant 2,City 2]:\t-9\n",
      "Dual:\tupperFlow[Plant 2,City 3]:\t0\n"
     ]
    }
   ],
   "source": [
    "# OPTIMIZE AND PRINT ==========================================================\n",
    "\n",
    "## Update the model\n",
    "m.update()\n",
    "\n",
    "## Optimize the model\n",
    "m.modelSense = GRB.MINIMIZE\n",
    "m.setParam('OutputFlag', 0)\n",
    "m.optimize()\n",
    "\n",
    "## Get the supply of each plant\n",
    "plantSupply = {'Plant 1':0,\n",
    "               'Plant 2':0}\n",
    "\n",
    "for plant in Plants:\n",
    "    for city in Cities:\n",
    "        plantSupply[plant] += flow[plant, city].x\n",
    "\n",
    "## Print the output\n",
    "if m.status == GRB.Status.OPTIMAL:\n",
    "    print('\\n========= OPTIMIZED MODEL =========')\n",
    "    \n",
    "    print('\\nOptimized cost: %g' % m.objVal + ' (in USD)')\n",
    "    \n",
    "    print('\\nOptimal Supply of the Plants')\n",
    "    for plant in Plants: print(plant + ':\\t' + str(plantSupply[plant]))\n",
    "\n",
    "    print('\\nDecision Variables (flow from plant to city): ')\n",
    "    for plant, city in Arcs:\n",
    "        print('%s\\t->\\t%s' % (plant, city) + ':\\t' + str(flow[plant, city].x))\n",
    "    \n",
    "    print('\\nDual Variables:')\n",
    "    for constr in m.getConstrs(): print('Dual:\\t%s:\\t%g' % (constr.constrName, constr.Pi))\n"
   ]
  },
  {
   "cell_type": "code",
   "execution_count": null,
   "id": "6d4c00f8",
   "metadata": {},
   "outputs": [],
   "source": []
  }
 ],
 "metadata": {
  "kernelspec": {
   "display_name": "Python 3",
   "language": "python",
   "name": "python3"
  },
  "language_info": {
   "codemirror_mode": {
    "name": "ipython",
    "version": 3
   },
   "file_extension": ".py",
   "mimetype": "text/x-python",
   "name": "python",
   "nbconvert_exporter": "python",
   "pygments_lexer": "ipython3",
   "version": "3.8.8"
  }
 },
 "nbformat": 4,
 "nbformat_minor": 5
}
