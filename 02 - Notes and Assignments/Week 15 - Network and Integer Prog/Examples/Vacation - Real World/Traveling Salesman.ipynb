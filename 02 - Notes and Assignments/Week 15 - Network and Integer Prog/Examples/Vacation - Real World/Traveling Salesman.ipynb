{
 "cells": [
  {
   "cell_type": "code",
   "execution_count": 1,
   "id": "e42cabc6",
   "metadata": {},
   "outputs": [
    {
     "name": "stdout",
     "output_type": "stream",
     "text": [
      "Restricted license - for non-production use only - expires 2022-01-13\n"
     ]
    }
   ],
   "source": [
    "\"\"\"\n",
    "Traveling Salesmen (Minimize distance traveled through sources and destinations)\n",
    "Example finds the minimum distance between major US cities for a single route\n",
    "\"\"\"\n",
    "\n",
    "from gurobipy import *\n",
    "\n",
    "# Create model for optimization\n",
    "m = Model('Traveling Salesman')\n"
   ]
  },
  {
   "cell_type": "code",
   "execution_count": 2,
   "id": "7c8f574f",
   "metadata": {},
   "outputs": [],
   "source": [
    "# Sets (KEY INPUTS) ===========================================================\n",
    "\n",
    "## ---------------------------------------------------------------------------\n",
    "## Position name (POS_NAME), Position (POS) - doesnt really matter what is in this, and Distance Matrix (DIST)\n",
    "POS_NAME = ['Norman', 'St. Louis', 'Charlettsville']\n",
    "POS = [[35, 97], [38, 90], [37, 78]]\n",
    "DIST = [[0, 514, 1228], [515, 0, 754], [1233, 753, 0]]\n",
    "## ---------------------------------------------------------------------------\n",
    "\n",
    "## Create Empty Sets and Paremters to append in following block \n",
    "\n",
    "### Nodes\n",
    "N = tuplelist([])\n",
    "\n",
    "### Arcs\n",
    "A = tuplelist([])\n",
    "\n",
    "### Cost\n",
    "c = {}\n",
    "\n",
    "### Read distance and position lists to create set of node (N), arcs (A), and\n",
    "### Distance between nodes (c)\n",
    "for i, pos_i in enumerate(POS):\n",
    "    N.append(i)\n",
    "    for j, pos_j in enumerate(POS):\n",
    "        if j!= i:\n",
    "            A.append((i, j))\n",
    "            c[i, j] = DIST[i][j]\n",
    "            \n",
    "### COunt of nodes\n",
    "n = len(N)\n"
   ]
  },
  {
   "cell_type": "code",
   "execution_count": 3,
   "id": "2cd11350",
   "metadata": {
    "scrolled": true
   },
   "outputs": [
    {
     "name": "stdout",
     "output_type": "stream",
     "text": [
      "\n",
      "Total (Optimized) Distance: 2496\n",
      "\n",
      "Optimal Path:\n",
      "Norman\t->\tCharlettsville\n",
      "St. Louis\t->\tNorman\n",
      "Charlettsville\t->\tSt. Louis\n"
     ]
    }
   ],
   "source": [
    "# OPTIMIZATION ================================================================\n",
    "\n",
    "## Create the model\n",
    "m = Model('Traveling Salesman')\n",
    "\n",
    "## Create variables and the coefficients of the objective function\n",
    "x = m.addVars(A, obj = c, name = 'x', vtype = GRB.BINARY)\n",
    "u = m.addVars(N, obj = 0, name = 'u')\n",
    "\n",
    "## Constraints ---------------------------------------------------------------\n",
    "\n",
    "### Only can depart from a single node\n",
    "m.addConstrs(\n",
    "    (x.sum('*', j) == 1 for j in N),\n",
    "    'departureNode')\n",
    "\n",
    "### Only can arrive at a single node\n",
    "m.addConstrs(\n",
    "    (x.sum(i, '*') == 1 for i in N),\n",
    "    'arrivalNode')\n",
    "\n",
    "### Time labels?\n",
    "m.addConstrs(\n",
    "    (n*(1 - x[i, j]) >= u[i]-u[j]+1 for (i,j) in A if (j!=0)),\n",
    "    'timeLabels')\n",
    "\n",
    "## Optimize the Minimum Distance Traveled\n",
    "m.modelSense = GRB.MINIMIZE\n",
    "m.setParam('OutputFlag', 0)\n",
    "m.optimize()\n",
    "\n",
    "# Print the solution\n",
    "if m.status == GRB.Status.OPTIMAL:\n",
    "    solution_OF = m.objVal\n",
    "    solution_x  = m.getAttr('x', x) \n",
    "    solution_u  = m.getAttr('x', u)\n",
    "    print('\\nTotal (Optimized) Distance: %g' % solution_OF)\n",
    "    print('\\nOptimal Path:')\n",
    "    for i, j in A:\n",
    "        if solution_x[i,j] > 0:\n",
    "            print('%s\\t->\\t%s' % (POS_NAME[i], POS_NAME[j]))\n",
    "            "
   ]
  }
 ],
 "metadata": {
  "kernelspec": {
   "display_name": "Python 3",
   "language": "python",
   "name": "python3"
  },
  "language_info": {
   "codemirror_mode": {
    "name": "ipython",
    "version": 3
   },
   "file_extension": ".py",
   "mimetype": "text/x-python",
   "name": "python",
   "nbconvert_exporter": "python",
   "pygments_lexer": "ipython3",
   "version": "3.8.8"
  }
 },
 "nbformat": 4,
 "nbformat_minor": 5
}
